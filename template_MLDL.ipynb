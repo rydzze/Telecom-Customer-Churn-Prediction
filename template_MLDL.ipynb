{
 "cells": [
  {
   "cell_type": "markdown",
   "metadata": {},
   "source": [
    "## **<MODEL_NAME>_<DATASET_NAME>**"
   ]
  },
  {
   "cell_type": "markdown",
   "metadata": {},
   "source": [
    "## **Importing Libraries and Dataset**"
   ]
  },
  {
   "cell_type": "code",
   "execution_count": null,
   "metadata": {},
   "outputs": [],
   "source": [
    "import numpy as np\n",
    "import pandas as pd\n",
    "import seaborn as sns\n",
    "import matplotlib.pyplot as plt\n",
    "\n",
    "### LOAD YOUR ML/DL MODEL HERE ^-^ !!!\n",
    "from sklearn.model_selection import train_test_split\n",
    "from sklearn.model_selection import GridSearchCV\n",
    "from sklearn.model_selection import cross_val_score\n",
    "from sklearn.metrics import accuracy_score, classification_report, confusion_matrix, roc_curve, roc_auc_score, precision_recall_curve, average_precision_score"
   ]
  },
  {
   "cell_type": "code",
   "execution_count": null,
   "metadata": {},
   "outputs": [],
   "source": [
    "# Read the CSV dataset using pandas\n",
    "\n",
    "data = pd.read_csv('preprocessed_data_IBM.csv')\n",
    "data.info()\n",
    "\n",
    "# Select the features and target variable\n",
    "\n",
    "X_train = data.drop(columns=['Churn'])\n",
    "y_train = data['Churn']"
   ]
  },
  {
   "cell_type": "markdown",
   "metadata": {},
   "source": [
    "## **Model Training**"
   ]
  },
  {
   "cell_type": "code",
   "execution_count": null,
   "metadata": {},
   "outputs": [],
   "source": [
    "# Split the data into two sets: Training (70%), Test (30%)\n",
    "X_train, X_test, y_train, y_test = train_test_split(X_train, y_train, test_size=0.3, random_state=42)\n",
    "\n",
    "# Load the ML/DL model\n",
    "### YOUR CODE HERE ^-^ !!!\n",
    "\n",
    "# Fit the training set into the model\n",
    "### YOUR CODE HERE ^-^ !!!\n",
    "\n",
    "# Predict the customer churn\n",
    "### YOUR CODE HERE ^-^ !!!"
   ]
  },
  {
   "cell_type": "markdown",
   "metadata": {},
   "source": [
    "### **Classification Report**"
   ]
  },
  {
   "cell_type": "code",
   "execution_count": null,
   "metadata": {},
   "outputs": [],
   "source": [
    "# Calculate the accuracy of the model\n",
    "\n",
    "### YOUR CODE HERE ^-^ !!!\n",
    "\n",
    "# Display the full classification report \n",
    "\n",
    "### YOUR CODE HERE ^-^ !!!"
   ]
  },
  {
   "cell_type": "markdown",
   "metadata": {},
   "source": [
    "### **Confusion Matrix**"
   ]
  },
  {
   "cell_type": "code",
   "execution_count": null,
   "metadata": {},
   "outputs": [],
   "source": [
    "# Display the confusion matrix\n",
    "\n",
    "### YOUR CODE HERE ^-^ !!!"
   ]
  },
  {
   "cell_type": "markdown",
   "metadata": {},
   "source": [
    "## **Model Enhancement**"
   ]
  },
  {
   "cell_type": "code",
   "execution_count": null,
   "metadata": {},
   "outputs": [],
   "source": [
    "# Tune the parameters of the model and find the best model using Grid Search\n",
    "\n",
    "def tune_model(model, X_train, y_train, param_grid, scoring='accuracy', cv=5):   \n",
    "    gridSearch = GridSearchCV(estimator=model, param_grid=param_grid,\n",
    "                               scoring=scoring, cv=cv)\n",
    "    \n",
    "    gridSearch.fit(X_train, y_train)\n",
    "\n",
    "    bestParameters = gridSearch.best_params_\n",
    "    bestScore = gridSearch.best_score_\n",
    "\n",
    "    print(f\"Best parameters: {bestParameters}\\n\")\n",
    "    print(f\"Best {scoring} score: {bestScore}\")\n",
    "    \n",
    "    bestModel = gridSearch.best_estimator_\n",
    "    return bestModel\n",
    "\n",
    "# Validate the model performance using cross validation method with num of folds = 5\n",
    "\n",
    "def cross_validation(model, X_train, y_train, scoring='accuracy', cv=5):\n",
    "    result = cross_val_score(model, X_train, y_train, scoring=scoring, cv=cv)\n",
    "\n",
    "    print(f\"\\nCross Validation Scores ({scoring}): {result}\")\n",
    "    print(f\"\\nMean Accuracy      : {result.mean() * 100:.2f}%\")\n",
    "    print(f\"Standard Deviation : {result.std():.2f}\")"
   ]
  },
  {
   "cell_type": "markdown",
   "metadata": {},
   "source": [
    "### **Hyperparameter Tuning**"
   ]
  },
  {
   "cell_type": "code",
   "execution_count": null,
   "metadata": {},
   "outputs": [],
   "source": [
    "# Prepare the parameters of the model for tuning\n",
    "### YOUR CODE HERE ^-^ !!!\n",
    "\n",
    "# Assign the best model into a variable\n",
    "### YOUR CODE HERE ^-^ !!!\n",
    "\n",
    "# Predict the customer churn using tuned model \n",
    "### YOUR CODE HERE ^-^ !!!"
   ]
  },
  {
   "cell_type": "markdown",
   "metadata": {},
   "source": [
    "### **Classification Report**"
   ]
  },
  {
   "cell_type": "code",
   "execution_count": null,
   "metadata": {},
   "outputs": [],
   "source": [
    "# Calculate the accuracy of the model\n",
    "\n",
    "### YOUR CODE HERE ^-^ !!!\n",
    "\n",
    "# Display the full classification report \n",
    "\n",
    "### YOUR CODE HERE ^-^ !!!"
   ]
  },
  {
   "cell_type": "markdown",
   "metadata": {},
   "source": [
    "### **Cross-Validation Score**"
   ]
  },
  {
   "cell_type": "code",
   "execution_count": null,
   "metadata": {},
   "outputs": [],
   "source": [
    "# Validate the model performance\n",
    "\n",
    "### YOUR CODE HERE ^-^ !!!"
   ]
  },
  {
   "cell_type": "markdown",
   "metadata": {},
   "source": [
    "## **Model Testing and Evaluation**"
   ]
  },
  {
   "cell_type": "code",
   "execution_count": null,
   "metadata": {},
   "outputs": [],
   "source": [
    "# Predict the customer churn for test set using tuned model\n",
    "\n",
    "### YOUR CODE HERE ^-^ !!!"
   ]
  },
  {
   "cell_type": "markdown",
   "metadata": {},
   "source": [
    "### **Classification Report**"
   ]
  },
  {
   "cell_type": "code",
   "execution_count": null,
   "metadata": {},
   "outputs": [],
   "source": [
    "# Calculate the accuracy of the model\n",
    "\n",
    "### YOUR CODE HERE ^-^ !!!\n",
    "\n",
    "# Display the full classification report \n",
    "\n",
    "### YOUR CODE HERE ^-^ !!!"
   ]
  },
  {
   "cell_type": "markdown",
   "metadata": {},
   "source": [
    "### **Confusion Matrix**"
   ]
  },
  {
   "cell_type": "code",
   "execution_count": null,
   "metadata": {},
   "outputs": [],
   "source": [
    "# Display the confusion matrix\n",
    "\n",
    "### YOUR CODE HERE ^-^ !!!"
   ]
  },
  {
   "cell_type": "markdown",
   "metadata": {},
   "source": [
    "### **Receiver Operating Characteristic (ROC) Curve**"
   ]
  },
  {
   "cell_type": "code",
   "execution_count": null,
   "metadata": {},
   "outputs": [],
   "source": [
    "# Calculate the FPR, TPR, and AUC score\n",
    "\n",
    "### YOUR CODE HERE ^-^ !!!\n",
    "\n",
    "# Plot the ROC Curve\n",
    "\n",
    "### YOUR CODE HERE ^-^ !!!"
   ]
  },
  {
   "cell_type": "markdown",
   "metadata": {},
   "source": [
    "### **Precision-Recall Curve**"
   ]
  },
  {
   "cell_type": "code",
   "execution_count": null,
   "metadata": {},
   "outputs": [],
   "source": [
    "# Calculate the precision, recall, and average precision score\n",
    "\n",
    "### YOUR CODE HERE ^-^ !!!\n",
    "\n",
    "# Plot the Precision-Recall Curve\n",
    "\n",
    "### YOUR CODE HERE ^-^ !!!"
   ]
  }
 ],
 "metadata": {
  "kernelspec": {
   "display_name": "Python 3",
   "language": "python",
   "name": "python3"
  },
  "language_info": {
   "codemirror_mode": {
    "name": "ipython",
    "version": 3
   },
   "file_extension": ".py",
   "mimetype": "text/x-python",
   "name": "python",
   "nbconvert_exporter": "python",
   "pygments_lexer": "ipython3",
   "version": "3.10.4"
  }
 },
 "nbformat": 4,
 "nbformat_minor": 2
}
